{
  "cells": [
    {
      "cell_type": "markdown",
      "metadata": {},
      "source": [
        "\n# Rigid Motion Pattern Generation\n\nExample of rigid motion pattern generation.\n\nThis examples show how to generate rigid motion pattern\nfor 2D (in-plane rotation, x-y translation) and 3D (3D rotation, x-y-z translation)\nimaging problems.\n"
      ]
    },
    {
      "cell_type": "code",
      "execution_count": null,
      "metadata": {
        "collapsed": false
      },
      "outputs": [],
      "source": [
        "import matplotlib.pyplot as plt\nimport numpy as np\n\nfrom mrtwin import rigid_motion"
      ]
    },
    {
      "cell_type": "markdown",
      "metadata": {},
      "source": [
        "## Basic Usage\n\nTwo- and three-dimensional rigid motion patterns\ncan be generated as follows, using ``nframes`` to\nspecify the number of motion states:\n\n"
      ]
    },
    {
      "cell_type": "code",
      "execution_count": null,
      "metadata": {
        "collapsed": false
      },
      "outputs": [],
      "source": [
        "theta, dy2D, dx2D = rigid_motion(2, 200 * 200)\nroll, pitch, yaw, dz3D, dy3D, dx3D = rigid_motion(3, 200 * 200)\n\nfig1, ax1 = plt.subplots(2, 2)\nax1[0, 0].plot(theta, \".\"), ax1[0, 0].set(\n    xlabel=\"motion state #\", ylabel=\"rotation angle [deg]\"\n), ax1[0, 0].set_title(\"2D motion\")\nax1[1, 0].plot(np.stack((dy2D, dx2D), axis=1), \".\"), ax1[1, 0].set(\n    xlabel=\"motion state #\", ylabel=\"translation [mm]\"\n), ax1[1, 0].set_title(\"2D motion\")\nax1[0, 1].plot(np.stack((roll, pitch, yaw), axis=1), \".\"), ax1[0, 1].set(\n    xlabel=\"motion state #\", ylabel=\"rotation angle [deg]\"\n), ax1[0, 1].set_title(\"3D motion\")\nax1[1, 1].plot(np.stack((dz3D, dy3D, dx3D), axis=1), \".\"), ax1[1, 1].set(\n    xlabel=\"motion state #\", ylabel=\"translation [mm]\"\n), ax1[1, 1].set_title(\"23D motion\")\nplt.show()"
      ]
    },
    {
      "cell_type": "markdown",
      "metadata": {},
      "source": [
        "For reproducibility, the seed for random pattern generation is set to ``42``.\nThis can be changed via the ``seed`` argument:\n\n"
      ]
    },
    {
      "cell_type": "code",
      "execution_count": null,
      "metadata": {
        "collapsed": false
      },
      "outputs": [],
      "source": [
        "theta1, dy1, dx1 = rigid_motion(2, 200 * 200, seed=10)\ntheta2, dy2, dx2 = rigid_motion(2, 200 * 200, seed=20)\ntheta3, dy3, dx3 = rigid_motion(2, 200 * 200, seed=30)\n\nfig2, ax2 = plt.subplots(2, 3)\nax2[0, 0].plot(theta1, \".\"), ax2[0, 0].set(\n    xlabel=\"motion state #\", ylabel=\"rotation angle [deg]\"\n), ax2[0, 0].set_title(\"seed = 10\")\nax2[1, 0].plot(np.stack((dy1, dx1), axis=1), \".\"), ax2[1, 0].set(\n    xlabel=\"motion state #\", ylabel=\"translation [mm]\"\n)\nax2[0, 1].plot(theta2, \".\"), ax2[0, 1].set(\n    xlabel=\"motion state #\", ylabel=\"rotation angle [deg]\"\n), ax2[0, 1].set_title(\"seed = 20\")\nax2[1, 1].plot(np.stack((dy2, dx2), axis=1), \".\"), ax2[1, 1].set(\n    xlabel=\"motion state #\", ylabel=\"translation [mm]\"\n)\nax2[0, 2].plot(theta3, \".\"), ax2[0, 2].set(\n    xlabel=\"motion state #\", ylabel=\"rotation angle [deg]\"\n), ax2[0, 2].set_title(\"seed = 20\")\nax2[1, 2].plot(np.stack((dy3, dx3), axis=1), \".\"), ax2[1, 2].set(\n    xlabel=\"motion state #\", ylabel=\"translation [mm]\"\n)\nplt.show()"
      ]
    },
    {
      "cell_type": "markdown",
      "metadata": {},
      "source": [
        "## Advanced Usage\n\nSeverity of motion can be specified via the ``degree`` argument.\nThis can be a string - accepted values are ``\"subtle\"``, ``\"moderate\"``\nand ``\"severe\"``. These corresponds to the following motion ranges:\n\n"
      ]
    },
    {
      "cell_type": "code",
      "execution_count": null,
      "metadata": {
        "collapsed": false
      },
      "outputs": [],
      "source": [
        "# * ``\"subtle\"``: maximum rotation ``5.0 [deg]``; maximum translation ``2.0 [mm]``\n# * ``\"moderate\"``: maximum rotation ``10.0 [deg]``; maximum translation ``8.0 [mm]``\n# * ``\"severe\"``: maximum rotation ``16.0 [deg]``; maximum translation ``16.0 [mm]`\n\ntheta1, dy1, dx1 = rigid_motion(2, 200 * 200, degree=\"subtle\")\ntheta2, dy2, dx2 = rigid_motion(2, 200 * 200, degree=\"moderate\")\ntheta3, dy3, dx3 = rigid_motion(2, 200 * 200, degree=\"severe\")\n\nfig3, ax3 = plt.subplots(2, 3)\nax3[0, 0].plot(theta1, \".\"), ax3[0, 0].set(\n    xlabel=\"motion state #\", ylabel=\"rotation angle [deg]\"\n), ax3[0, 0].set_title(\"subtle motion\")\nax3[1, 0].plot(np.stack((dy1, dx1), axis=1), \".\"), ax3[1, 0].set(\n    xlabel=\"motion state #\", ylabel=\"translation [mm]\"\n)\nax3[0, 1].plot(theta2, \".\"), ax3[0, 1].set(\n    xlabel=\"motion state #\", ylabel=\"rotation angle [deg]\"\n), ax3[0, 1].set_title(\"moderate motion\")\nax3[1, 1].plot(np.stack((dy2, dx2), axis=1), \".\"), ax3[1, 1].set(\n    xlabel=\"motion state #\", ylabel=\"translation [mm]\"\n)\nax3[0, 2].plot(theta3, \".\"), ax3[0, 2].set(\n    xlabel=\"motion state #\", ylabel=\"rotation angle [deg]\"\n), ax3[0, 2].set_title(\"severe motion\")\nax3[1, 2].plot(np.stack((dy3, dx3), axis=1), \".\"), ax3[1, 2].set(\n    xlabel=\"motion state #\", ylabel=\"translation [mm]\"\n)\nplt.show()"
      ]
    },
    {
      "cell_type": "markdown",
      "metadata": {},
      "source": [
        "As an alternative, user can specify a tuple of floats, where ``degree[0]``\nis the maximum rotation in ``[deg]`` and ``degree[1]`` is the maximum translation\nin ``[mm]``:\n\n"
      ]
    },
    {
      "cell_type": "code",
      "execution_count": null,
      "metadata": {
        "collapsed": false
      },
      "outputs": [],
      "source": [
        "theta1, dy1, dx1 = rigid_motion(2, 200 * 200, degree=(30, 5))\n\nfig4, ax4 = plt.subplots(1, 2)\nax4[0].plot(theta1, \".\"), ax4[0].set(\n    xlabel=\"motion state #\", ylabel=\"rotation angle [deg]\"\n), ax4[0].set_title(\"custom motion\")\nax4[1].plot(np.stack((dy1, dx1), axis=1), \".\"), ax4[1].set(\n    xlabel=\"motion state #\", ylabel=\"translation [mm]\"\n)\nplt.show()"
      ]
    }
  ],
  "metadata": {
    "kernelspec": {
      "display_name": "Python 3",
      "language": "python",
      "name": "python3"
    },
    "language_info": {
      "codemirror_mode": {
        "name": "ipython",
        "version": 3
      },
      "file_extension": ".py",
      "mimetype": "text/x-python",
      "name": "python",
      "nbconvert_exporter": "python",
      "pygments_lexer": "ipython3",
      "version": "3.10.14"
    }
  },
  "nbformat": 4,
  "nbformat_minor": 0
}