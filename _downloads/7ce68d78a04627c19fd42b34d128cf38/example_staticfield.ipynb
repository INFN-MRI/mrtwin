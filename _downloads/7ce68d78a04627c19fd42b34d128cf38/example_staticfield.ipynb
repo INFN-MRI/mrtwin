{
  "cells": [
    {
      "cell_type": "markdown",
      "metadata": {},
      "source": [
        "\n# Static Field Simulation\n\nExample of static field generation.\n\nThis examples show how to generate a static field (i.e., B0)\nmap starting from the object susceptibility distribution.\n\n\nThe static field is written as the following convolution (performed as a pointwise multiplication in the Fourier space):\n\n\\begin{align}\\mathbf{B}(\\mathbf{r}) = \\mathbf{B_0} \\cdot \\mathcal{F}^{-1} \\left[ \\chi(\\mathbf{k}) \\cdot D(\\mathbf{k}) \\right]\\end{align}\nwhere $\\chi(\\mathbf{k})$ is the Fourier transform of susceptibility spatial distribution and\n$D(\\mathbf{k})$ is the dipole kernel defined by:\n    \n.. math ::\n\n    D(\\mathbf{r}) = \\left(\\frac{1}{3} - \\frac{k^2_z}{\\lvert \\textbf{k} \\rvert}\\right)\n"
      ]
    },
    {
      "cell_type": "code",
      "execution_count": null,
      "metadata": {
        "collapsed": false
      },
      "outputs": [],
      "source": [
        "import matplotlib.pyplot as plt\nimport numpy as np\n\nfrom mrtwin import shepplogan_phantom, b0field"
      ]
    },
    {
      "cell_type": "markdown",
      "metadata": {},
      "source": [
        "## Generate susceptibility distribution\n\nFirst, we generate a 3D Shepp-Logan phantom:\n\n"
      ]
    },
    {
      "cell_type": "code",
      "execution_count": null,
      "metadata": {
        "collapsed": false
      },
      "outputs": [],
      "source": [
        "phantom = shepplogan_phantom(ndim=3, shape=128, segtype=False)\n\n# Get susceptibility\nchi = phantom.Chi\n\nplt.figure()\nplt.imshow(chi[64], cmap=\"gray\"), plt.axis(\"off\"), plt.colorbar(), plt.title(\n    \"magnetic susceptibility\"\n)\nplt.show()"
      ]
    },
    {
      "cell_type": "markdown",
      "metadata": {},
      "source": [
        "## Basic Usage\n\nStarting from the susceptibility distribution, we can generate the\ncorresponding static field perturbation as:\n\n"
      ]
    },
    {
      "cell_type": "code",
      "execution_count": null,
      "metadata": {
        "collapsed": false
      },
      "outputs": [],
      "source": [
        "b0map = b0field(chi)\n\nplt.figure()\nplt.imshow(b0map[64], cmap=\"turbo\", vmin=-300, vmax=300), plt.axis(\n    \"off\"\n), plt.colorbar(), plt.title(\"B0 map [Hz]\")\nplt.show()"
      ]
    },
    {
      "cell_type": "markdown",
      "metadata": {},
      "source": [
        "Optionally, we can provide a mask of the object to exclude the background:\n\n"
      ]
    },
    {
      "cell_type": "code",
      "execution_count": null,
      "metadata": {
        "collapsed": false
      },
      "outputs": [],
      "source": [
        "mask = phantom.M0 != 0.0\nb0map = b0field(chi, mask=mask)\n\nplt.figure()\nplt.imshow(b0map[64], cmap=\"turbo\", vmin=-300, vmax=300), plt.axis(\n    \"off\"\n), plt.colorbar(), plt.title(\"masked B0 map [Hz]\")\nplt.show()"
      ]
    },
    {
      "cell_type": "markdown",
      "metadata": {},
      "source": [
        "The static field map calculated by\ndefault for a field strength of 1.5 T.\n\nThis can be changed via the ``B0`` argument:\n\n"
      ]
    },
    {
      "cell_type": "code",
      "execution_count": null,
      "metadata": {
        "collapsed": false
      },
      "outputs": [],
      "source": [
        "# B0 strengths\nB0 = [0.55, 1.5, 3.0, 7.0, 11.7, 13.3]  # field strengths in [T]\n\n# Generate phantoms with different field strengths\nb0maps = [b0field(chi, B0=strength) for strength in B0]\n\n# Display\nb0map = np.concatenate([b0map[64] for b0map in b0maps], axis=1)\n\nplt.figure()\nplt.imshow(b0map, cmap=\"turbo\", vmin=-300, vmax=300), plt.axis(\n    \"off\"\n), plt.colorbar(), plt.title(\"B0 map [Hz]\")\nplt.show()"
      ]
    },
    {
      "cell_type": "markdown",
      "metadata": {},
      "source": [
        "As an alternative, we can force a specific\nB0 offset range using the ``b0range`` argument as:\n\n"
      ]
    },
    {
      "cell_type": "code",
      "execution_count": null,
      "metadata": {
        "collapsed": false
      },
      "outputs": [],
      "source": [
        "b0map = b0field(chi, b0range=(-500, 500))\n\nplt.figure()\nplt.imshow(b0map[64], cmap=\"turbo\", vmin=-300, vmax=300), plt.axis(\n    \"off\"\n), plt.colorbar(), plt.title(\"B0 map [Hz]\")\nplt.show()"
      ]
    }
  ],
  "metadata": {
    "kernelspec": {
      "display_name": "Python 3",
      "language": "python",
      "name": "python3"
    },
    "language_info": {
      "codemirror_mode": {
        "name": "ipython",
        "version": 3
      },
      "file_extension": ".py",
      "mimetype": "text/x-python",
      "name": "python",
      "nbconvert_exporter": "python",
      "pygments_lexer": "ipython3",
      "version": "3.10.14"
    }
  },
  "nbformat": 4,
  "nbformat_minor": 0
}