{
  "cells": [
    {
      "cell_type": "markdown",
      "metadata": {},
      "source": [
        "\n# Transmit Field Simulation\n\nExample of transmit field (i.e., B1+) map generation.\n\nThis examples show how to generate coil sensitivity maps\nfor a single or multi-channel transmit array.\n"
      ]
    },
    {
      "cell_type": "code",
      "execution_count": null,
      "metadata": {
        "collapsed": false
      },
      "outputs": [],
      "source": [
        "import matplotlib.pyplot as plt\nimport numpy as np\n\nfrom mrtwin import b1field\n\nplt.rcParams[\"image.cmap\"] = \"hot\""
      ]
    },
    {
      "cell_type": "markdown",
      "metadata": {},
      "source": [
        "## Basic Usage\n\nTwo- and three-dimensional transmit field maps\ncan be generated providing ``(ny, nx)`` and\n``(nz, ny, nx)`` shaped tuple as a ``shape`` argument\nto `b1field` routine, respectively:\n\n"
      ]
    },
    {
      "cell_type": "code",
      "execution_count": null,
      "metadata": {
        "collapsed": false
      },
      "outputs": [],
      "source": [
        "b1map2D = b1field(shape=(200, 200))  # (200, 200) matrix\nprint(b1map2D.shape)\n\nb1map3D = b1field(shape=(128, 128, 128))  # (128, 128, 128) matrix\nprint(b1map3D.shape)\n\nplt.figure()\nplt.imshow(b1map2D), plt.axis(\"off\"), plt.colorbar(), plt.title(\n    \"transmit field (in units of relative flip angle)\"\n)\nplt.show()"
      ]
    },
    {
      "cell_type": "markdown",
      "metadata": {},
      "source": [
        "The transmit field maps are generated\nwith a relative flip angle variation\nbetween 0.8 and 1.2 (e.g., 3T systems).\n\nThis can be changed via the ``b1range`` argument:\n\n"
      ]
    },
    {
      "cell_type": "code",
      "execution_count": null,
      "metadata": {
        "collapsed": false
      },
      "outputs": [],
      "source": [
        "b1map2D = b1field(shape=(200, 200), b1range=(0.5, 2.0))\n\nplt.figure()\nplt.imshow(b1map2D), plt.axis(\"off\"), plt.colorbar(), plt.title(\n    \"transmit field with b1range between 0.5 and 2.0\"\n)\nplt.show()"
      ]
    },
    {
      "cell_type": "markdown",
      "metadata": {},
      "source": [
        "This can be used e.g., to simulate field maps for higher fields (e.g., 7T systems).\n\nOptionally, we can provide a mask of the object to exclude the background\nwhen calculating the field rescaling:\n\n"
      ]
    },
    {
      "cell_type": "code",
      "execution_count": null,
      "metadata": {
        "collapsed": false
      },
      "outputs": [],
      "source": [
        "from mrtwin import shepplogan_phantom\n\nmask = shepplogan_phantom(ndim=2, shape=(200, 200), segtype=False).M0 != 0.0\nb1map2D = b1field(shape=(200, 200), mask=mask)\n\nplt.figure()\nplt.imshow(b1map2D), plt.axis(\"off\"), plt.colorbar(), plt.title(\"masked transmit field\")\nplt.show()"
      ]
    },
    {
      "cell_type": "markdown",
      "metadata": {},
      "source": [
        "## Advanced Options\n\nThe sensitivity maps can be altered by modifying several parameters:\n\n1. ``coil_width``: width of the coil (with respect to FOV).\n2. ``shift``: displacement of the center (in units of voxels).\n3. ``dphi``: bulk rotation of the coil (in [deg]).\n4. ``ncoils``: number of transmit channels in the transmit array.\n5. ``nrings``: number of rings for a cylindrical hardware setup.\n\nWithout loss of generality, we show examples for 2D sensitivities:\n\n"
      ]
    },
    {
      "cell_type": "markdown",
      "metadata": {},
      "source": [
        "### Coil width\n\n"
      ]
    },
    {
      "cell_type": "code",
      "execution_count": null,
      "metadata": {
        "collapsed": false
      },
      "outputs": [],
      "source": [
        "widths = [0.5, 1.0, 1.5, 2.0]\nb1map2D = [\n    b1field(shape=(200, 200), coil_width=w) for w in widths\n]  # only show first channel\n\ndisplay = np.concatenate(b1map2D, axis=1)\n\nplt.figure()\nplt.imshow(abs(display)), plt.axis(\"off\"), plt.colorbar(), plt.title(\n    \"coil width from 0.5 to 2.0 times fov\"\n)\nplt.show()"
      ]
    },
    {
      "cell_type": "markdown",
      "metadata": {},
      "source": [
        "### Center shift\n\n"
      ]
    },
    {
      "cell_type": "code",
      "execution_count": null,
      "metadata": {
        "collapsed": false
      },
      "outputs": [],
      "source": [
        "dx = [-20, -10, 0, 10, 20]\nb1map2D = [\n    b1field(shape=(200, 200), shift=(0, x), coil_width=0.5) for x in dx\n]  # for 3D, it would be shift=(dz, dy, dx)\n\ndisplay = np.concatenate(b1map2D, axis=1)\n\nplt.figure()\nplt.imshow(abs(display)), plt.axis(\"off\"), plt.colorbar(), plt.title(\n    \"x-displacement from -20 to 20 times voxels\"\n)\nplt.show()"
      ]
    },
    {
      "cell_type": "markdown",
      "metadata": {},
      "source": [
        "### Rotation\n\n"
      ]
    },
    {
      "cell_type": "code",
      "execution_count": null,
      "metadata": {
        "collapsed": false
      },
      "outputs": [],
      "source": [
        "phi = [-20, -10, 0, 10, 20]\nb1map2D = [b1field(shape=(200, 200), dphi=angle, coil_width=0.5) for angle in phi]\n\ndisplay = np.concatenate(b1map2D, axis=1)\n\nplt.figure()\nplt.imshow(abs(display)), plt.axis(\"off\"), plt.colorbar(), plt.title(\n    \"coil rotation from -20 to 20 degrees (first channel)\"\n)\nplt.show()"
      ]
    },
    {
      "cell_type": "markdown",
      "metadata": {},
      "source": [
        "### Number of rings\n\n"
      ]
    },
    {
      "cell_type": "code",
      "execution_count": null,
      "metadata": {
        "collapsed": false
      },
      "outputs": [],
      "source": [
        "ncoils = [1, 2, 4, 8, 16, 32]\nb1map2D = [b1field(shape=(200, 200), ncoils=n, coil_width=0.5) for n in ncoils]\n\ndisplay = np.concatenate(b1map2D, axis=1)\n\nplt.figure()\nplt.imshow(abs(display)), plt.axis(\"off\"), plt.colorbar(), plt.title(\n    \"number of channels from 1 to 16\"\n)\nplt.show()"
      ]
    },
    {
      "cell_type": "markdown",
      "metadata": {},
      "source": [
        "### Number of rings\n\n"
      ]
    },
    {
      "cell_type": "code",
      "execution_count": null,
      "metadata": {
        "collapsed": false
      },
      "outputs": [],
      "source": [
        "nrings = [2, 4, 6, 8, 10]\nb1map2D = [b1field(shape=(200, 200), nrings=n, coil_width=0.5) for n in nrings]\n\ndisplay = np.concatenate(b1map2D, axis=1)\n\nplt.figure()\nplt.imshow(abs(display)), plt.axis(\"off\"), plt.colorbar(), plt.title(\n    \"number of rings from 2 to 10 (first channel)\"\n)\nplt.show()"
      ]
    },
    {
      "cell_type": "markdown",
      "metadata": {},
      "source": [
        "## Multiple Transmit Modes\n\nBy default, the sensitivities from each transmit channel are combined\nin quadrature mode.\n\nWith ``mrtwin``, multiple orthogonal modes can be simulated by ``nmodes`` argument.\nFor example, `CP` mode and `gradient` modes (e.g., for static pTx)  can be obtained as:\n\n"
      ]
    },
    {
      "cell_type": "code",
      "execution_count": null,
      "metadata": {
        "collapsed": false
      },
      "outputs": [],
      "source": [
        "b1map = b1field((200, 200), nmodes=2)  # b1map[0] is CP, b1map[1] is gradient mode."
      ]
    },
    {
      "cell_type": "markdown",
      "metadata": {},
      "source": [
        "In this case, b1map will be a ``(nmodes, *shape)`` ``np.ndarray``, the different\nmodes being stacked along the first axis:\n\n"
      ]
    },
    {
      "cell_type": "code",
      "execution_count": null,
      "metadata": {
        "collapsed": false
      },
      "outputs": [],
      "source": [
        "fig, ax = plt.subplots(2, 2)\nim0 = ax[0, 0].imshow(np.abs(b1map[0]))\nax[0, 0].axis(\"off\"), ax[0, 0].set_title(\"CP mode (magn)\")\nfig.colorbar(im0, ax=ax[0, 0], fraction=0.046, pad=0.04)\n\nim1 = ax[0, 1].imshow(np.angle(b1map[0]))\nax[0, 1].axis(\"off\"), ax[0, 1].set_title(\"CP mode (phase)\")\nfig.colorbar(im1, ax=ax[0, 1], fraction=0.046, pad=0.04)\n\nim2 = ax[1, 0].imshow(np.abs(b1map[1]))\nax[1, 0].axis(\"off\"), ax[1, 0].set_title(\"gradient mode (magn)\")\nfig.colorbar(im2, ax=ax[1, 0], fraction=0.046, pad=0.04)\n\nim3 = ax[1, 1].imshow(np.angle(b1map[1]))\nax[1, 1].axis(\"off\"), ax[1, 1].set_title(\"gradient mode (phase)\")\nfig.colorbar(im3, ax=ax[1, 1], fraction=0.046, pad=0.04)\nplt.show()"
      ]
    },
    {
      "cell_type": "markdown",
      "metadata": {},
      "source": [
        "## Caching mechanism\n\nTo reduce loading times, ``mrtwin`` implements a caching mechanism.\n\nIf ``cache`` argument is set to ``True`` (default behaviour for ``ndim=3``), each transmit field map\nsegmentation (identified by the number of channels, number of modes,\nmatrix size, shift, rotation angle, number of rings, b1 range and masking flag)\nis saved on the disk in ``npy`` format.\n\nThe path is selected according to the following hierachy (inspired by ``brainweb-dl``):\n\n1. User-specific argument (``cache_dir``)\n2. ``MRTWIN_DIR`` environment variable\n3. ``~/.cache/mrtwin`` folder\n\n\n"
      ]
    }
  ],
  "metadata": {
    "kernelspec": {
      "display_name": "Python 3",
      "language": "python",
      "name": "python3"
    },
    "language_info": {
      "codemirror_mode": {
        "name": "ipython",
        "version": 3
      },
      "file_extension": ".py",
      "mimetype": "text/x-python",
      "name": "python",
      "nbconvert_exporter": "python",
      "pygments_lexer": "ipython3",
      "version": "3.10.14"
    }
  },
  "nbformat": 4,
  "nbformat_minor": 0
}