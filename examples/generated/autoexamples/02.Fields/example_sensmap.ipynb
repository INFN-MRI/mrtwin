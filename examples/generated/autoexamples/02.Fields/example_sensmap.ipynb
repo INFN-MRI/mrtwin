{
  "cells": [
    {
      "cell_type": "markdown",
      "metadata": {},
      "source": [
        "\n# Coil Sensitivity Simulation\n\nExample of coil sensitivity map generation.\n\nThis examples show how to generate coil sensitivity maps\nfor a multi-channel receiver array.\n"
      ]
    },
    {
      "cell_type": "code",
      "execution_count": null,
      "metadata": {
        "collapsed": false
      },
      "outputs": [],
      "source": [
        "import matplotlib.pyplot as plt\nimport numpy as np\n\nfrom mrtwin import sensmap\n\nplt.rcParams[\"image.cmap\"] = \"gray\""
      ]
    },
    {
      "cell_type": "markdown",
      "metadata": {},
      "source": [
        "## Basic Usage\n\nTwo- and three-dimensional coil sensitivity maps\ncan be generated providing ``(nc, ny, nx)`` and\n``(nc, nz, ny, nx)`` shaped tuple as a ``shape`` argument\nto `sensmap` routine, respectively:\n\n"
      ]
    },
    {
      "cell_type": "code",
      "execution_count": null,
      "metadata": {
        "collapsed": false
      },
      "outputs": [],
      "source": [
        "smap2D = sensmap(shape=(8, 200, 200))  # 8 channels; (200, 200) matrix\nprint(smap2D.shape)\n\nsmap3D = sensmap(shape=(8, 128, 128, 128))  # 8 channels; (128, 128, 128) matrix\nprint(smap3D.shape)\n\ndisplay_magn = np.concatenate([np.abs(smap) for smap in smap2D], axis=1)\ndisplay_phase = np.concatenate([np.angle(smap) for smap in smap2D], axis=1)\n\nfig1, ax1 = plt.subplots(2, 1)\nax1[0].imshow(display_magn), ax1[0].axis(\"off\"), ax1[0].set_title(\"coil magnitudes\")\nax1[1].imshow(display_phase), ax1[1].axis(\"off\"), ax1[1].set_title(\"coil phases\")\nplt.show()"
      ]
    },
    {
      "cell_type": "markdown",
      "metadata": {},
      "source": [
        "## Advanced Options\n\nThe sensitivity maps can be altered by modifying several parameters:\n\n1. ``coil_width``: width of the coil (with respect to FOV).\n2. ``shift``: displacement of the center (in units of voxels).\n3. ``dphi``: bulk rotation of the coil (in [deg]).\n4. ``nrings``: number of rings for a cylindrical hardware setup.\n\nWithout loss of generality, we show examples for 2D sensitivities:\n\n"
      ]
    },
    {
      "cell_type": "markdown",
      "metadata": {},
      "source": [
        "### Coil width\n\n"
      ]
    },
    {
      "cell_type": "code",
      "execution_count": null,
      "metadata": {
        "collapsed": false
      },
      "outputs": [],
      "source": [
        "widths = [0.5, 1.0, 1.5, 2.0]\nsmap2D = [\n    sensmap(shape=(8, 200, 200), coil_width=w)[0] for w in widths\n]  # only show first channel\n\ndisplay = np.concatenate(smap2D, axis=1)\n\nplt.figure()\nplt.imshow(abs(display)), plt.axis(\"off\"), plt.title(\n    \"coil width from 0.5 to 2.0 times fov (first channel)\"\n)\nplt.show()"
      ]
    },
    {
      "cell_type": "markdown",
      "metadata": {},
      "source": [
        "### Center shift\n\n"
      ]
    },
    {
      "cell_type": "code",
      "execution_count": null,
      "metadata": {
        "collapsed": false
      },
      "outputs": [],
      "source": [
        "dx = [-20, -10, 0, 10, 20]\nsmap2D = [\n    sensmap(shape=(8, 200, 200), shift=(0, x), coil_width=0.5)[0] for x in dx\n]  # for 3D, it would be shift=(dz, dy, dx)\n\ndisplay = np.concatenate(smap2D, axis=1)\n\nplt.figure()\nplt.imshow(abs(display)), plt.axis(\"off\"), plt.title(\n    \"x-displacement from -20 to 20 times voxels (first channel)\"\n)\nplt.show()"
      ]
    },
    {
      "cell_type": "markdown",
      "metadata": {},
      "source": [
        "### Rotation\n\n"
      ]
    },
    {
      "cell_type": "code",
      "execution_count": null,
      "metadata": {
        "collapsed": false
      },
      "outputs": [],
      "source": [
        "phi = [-20, -10, 0, 10, 20]\nsmap2D = [sensmap(shape=(8, 200, 200), dphi=angle, coil_width=0.5)[0] for angle in phi]\n\ndisplay = np.concatenate(smap2D, axis=1)\n\nplt.figure()\nplt.imshow(abs(display)), plt.axis(\"off\"), plt.title(\n    \"coil rotation from -20 to 20 degrees (first channel)\"\n)\nplt.show()"
      ]
    },
    {
      "cell_type": "markdown",
      "metadata": {},
      "source": [
        "### Number of rings\n\n"
      ]
    },
    {
      "cell_type": "code",
      "execution_count": null,
      "metadata": {
        "collapsed": false
      },
      "outputs": [],
      "source": [
        "nrings = [2, 4, 6, 8, 10]\nsmap2D = [sensmap(shape=(8, 200, 200), nrings=n, coil_width=0.5)[0] for n in nrings]\n\ndisplay = np.concatenate(smap2D, axis=1)\n\nplt.figure()\nplt.imshow(abs(display)), plt.axis(\"off\"), plt.title(\n    \"number of rings from 2 to 10 (first channel)\"\n)\nplt.show()"
      ]
    },
    {
      "cell_type": "markdown",
      "metadata": {},
      "source": [
        "## Caching mechanism\n\nTo reduce loading times, ``mrtwin`` implements a caching mechanism.\n\nIf ``cache`` argument is set to ``True`` (default behaviour for ``ndim=3``), each sensitivity map\nsegmentation (identified by the number of channels,\nmatrix size, shift, rotation angle and number of rings)\nis saved on the disk in `npy` format.\n\nThe path is selected according to the following hierachy (inspired by ``brainweb-dl``):\n\n1. User-specific argument (``cache_dir``)\n2. ``MRTWIN_DIR`` environment variable\n3. ``~/.cache/mrtwin`` folder\n\n\n"
      ]
    }
  ],
  "metadata": {
    "kernelspec": {
      "display_name": "Python 3",
      "language": "python",
      "name": "python3"
    },
    "language_info": {
      "codemirror_mode": {
        "name": "ipython",
        "version": 3
      },
      "file_extension": ".py",
      "mimetype": "text/x-python",
      "name": "python",
      "nbconvert_exporter": "python",
      "pygments_lexer": "ipython3",
      "version": "3.10.14"
    }
  },
  "nbformat": 4,
  "nbformat_minor": 0
}