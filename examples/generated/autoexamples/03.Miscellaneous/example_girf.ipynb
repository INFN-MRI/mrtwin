{
  "cells": [
    {
      "cell_type": "markdown",
      "metadata": {},
      "source": [
        "\n# Gradien System Response Function Generation\n\nExample of Gradien System Response Function (GIRF) generation.\n\nThe GIRF is approximated as a complex-valued array, whose magnitude (modeled)\nas a Gaussian of the specified Full Width Half Maximum, which dampens\nhigh-frequency components of the k-space trajectory, and whose phase\nis a linear ramp representing a non-integer shift of the waveform.\n\nThe response is modeled independently for the three physical axes ``z, y, x``.\n"
      ]
    },
    {
      "cell_type": "code",
      "execution_count": null,
      "metadata": {
        "collapsed": false
      },
      "outputs": [],
      "source": [
        "import matplotlib.pyplot as plt\nimport numpy as np\n\nfrom mrtwin import generate_girf"
      ]
    },
    {
      "cell_type": "markdown",
      "metadata": {},
      "source": [
        "Typical values for gradient raster times ``dt`` are around 5-10 us\n(GE: 4us; Siemens: 10us; Philips: 6.4us)\n\nGIRF magnitudes Full Width Half Maximum are on the order of 5 kHz,\nwhile gradient delays are on the order of 1us.\n\nGIRF for the x and y axes are more similar to each other\nwhen compared to z axes.\n\nGiven a GIRF measurement time window of 100ms, function parameters are\nas follows:\n\n"
      ]
    },
    {
      "cell_type": "code",
      "execution_count": null,
      "metadata": {
        "collapsed": false
      },
      "outputs": [],
      "source": [
        "dt = 4e-6  # assume GE raster time\nN = int(100e-3 // dt)  # approximate number of points\nfwhm = (8.0e3, 5.9e3, 6.1e3)\ndelay = (3.2e-6, 0.9e-6, 1.1e-6)"
      ]
    },
    {
      "cell_type": "markdown",
      "metadata": {},
      "source": [
        "Given these parameters, GIRF can be computed as\n\n"
      ]
    },
    {
      "cell_type": "code",
      "execution_count": null,
      "metadata": {
        "collapsed": false
      },
      "outputs": [],
      "source": [
        "freqs, girf = generate_girf(dt, N, fwhm, delay)\n\nfig, ax = plt.subplots(2, 1)\nax[0].plot(freqs * 1e-3, np.abs(girf).T, \".\"), ax[0].set_xlim([-10, 10]), ax[0].legend(\n    [\"$GIRF_z$\", \"$GIRF_y$\", \"$GIRF_x$\"]\n), ax[0].set(xlabel=\"frequency [kHz]\", ylabel=\"GIRF magnitude\")\nax[1].plot(freqs * 1e-3, np.angle(girf).T, \".\"), ax[1].set_xlim([-10, 10]), ax[\n    1\n].set_ylim([-0.5, 0.5]), ax[1].set(xlabel=\"frequency [kHz]\", ylabel=\"GIRF phase [rad]\")"
      ]
    }
  ],
  "metadata": {
    "kernelspec": {
      "display_name": "Python 3",
      "language": "python",
      "name": "python3"
    },
    "language_info": {
      "codemirror_mode": {
        "name": "ipython",
        "version": 3
      },
      "file_extension": ".py",
      "mimetype": "text/x-python",
      "name": "python",
      "nbconvert_exporter": "python",
      "pygments_lexer": "ipython3",
      "version": "3.10.14"
    }
  },
  "nbformat": 4,
  "nbformat_minor": 0
}