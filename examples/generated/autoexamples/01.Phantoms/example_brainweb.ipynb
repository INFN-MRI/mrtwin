{
  "cells": [
    {
      "cell_type": "markdown",
      "metadata": {},
      "source": [
        "\n# Brainweb Phantom\n\nExample of Brainweb phantom creation.\n\nThis examples show how to generate numerical phantoms based on the Brainweb\ndataset.\n"
      ]
    },
    {
      "cell_type": "code",
      "execution_count": null,
      "metadata": {
        "collapsed": false
      },
      "outputs": [],
      "source": [
        "import matplotlib.pyplot as plt\nimport numpy as np\n\nfrom mrtwin import brainweb_phantom"
      ]
    },
    {
      "cell_type": "markdown",
      "metadata": {},
      "source": [
        "## Basic Usage\nThe Brainweb database consists of a set of 20 normal brains\n(ids equal to ``[4, 5, 6, 18, 20, 38, 41-54]``) at a nominal 0.5 mm isotropic\nresolution and a shape of ``(nz, ny, nx) = (362, 434, 362)``.\n\nA digital Brainweb phantom can be created as:\n\n"
      ]
    },
    {
      "cell_type": "code",
      "execution_count": null,
      "metadata": {
        "collapsed": false
      },
      "outputs": [],
      "source": [
        "phantom2D = brainweb_phantom(ndim=2, subject=4, segtype=\"fuzzy\")  # 2D phantom\nphantom3D = brainweb_phantom(ndim=3, subject=4, segtype=\"fuzzy\")  # 3D phantom"
      ]
    },
    {
      "cell_type": "markdown",
      "metadata": {},
      "source": [
        "The phantoms here created are sparse, i.e., they consists of a\n``(nclasses, *spatial_shape)`` shaped ``np.ndarray`` representing the\nprobabilistic maps of each tissue type (e.g., Gray Matter, White Matter, CSF)\nand a list of ``(nclasses,)`` dictionaries each containing the ``(M0, T1, T2, T2*, Chi)``\nvalues for each class:\n\n"
      ]
    },
    {
      "cell_type": "code",
      "execution_count": null,
      "metadata": {
        "collapsed": false
      },
      "outputs": [],
      "source": [
        "example2D = np.concatenate((phantom2D[3], phantom2D[2], phantom2D[1]), axis=0)\n\nexample3Dax = np.concatenate(\n    (phantom3D[3, 100], phantom3D[2, 100], phantom3D[1, 100]), axis=0\n)\nexample3Dcor = np.concatenate(\n    (phantom3D[3, ::-1, 100], phantom3D[2, ::-1, 100], phantom3D[1, ::-1, 100]), axis=0\n)\nexample3Dsag = np.concatenate(\n    (\n        phantom3D[3, ::-1, :, 100],\n        phantom3D[2, ::-1, :, 100],\n        phantom3D[1, ::-1, :, 100],\n    ),\n    axis=0,\n)\nexample3D = np.concatenate((example3Dax, example3Dcor, example3Dsag), axis=1)\n\nfig1, ax1 = plt.subplots(1, 2)\nax1[0].imshow(example2D, cmap=\"gray\"), ax1[0].axis(\"off\"), ax1[0].set_title(\n    \"2D phantom\"\n)\nax1[1].imshow(example3D, cmap=\"gray\"), ax1[1].axis(\"off\"), ax1[1].set_title(\n    \"3D phantom\"\n)\nplt.show()"
      ]
    },
    {
      "cell_type": "markdown",
      "metadata": {},
      "source": [
        "The ``(M0, T1, T2, T2*, Chi)`` properties\ncan be direcly accessed as:\n\n"
      ]
    },
    {
      "cell_type": "code",
      "execution_count": null,
      "metadata": {
        "collapsed": false
      },
      "outputs": [],
      "source": [
        "_, _ = print(\"M0:\", end=\"\\t\"), print(phantom2D.M0)  # same for phantom3D\n_, _ = print(\"T1 (ms):\", end=\"\\t\"), print(phantom2D.T1)\n_, _ = print(\"T2 (ms):\", end=\"\\t\"), print(phantom2D.T2)\n_, _ = print(\"T2* (ms):\", end=\"\\t\"), print(phantom2D.T2s)\n_, _ = print(\"Chi:\", end=\"\\t\"), print(phantom2D.Chi)"
      ]
    },
    {
      "cell_type": "markdown",
      "metadata": {},
      "source": [
        "If required, the ``properties`` dictionary\ncan be directly accessed as:\n\n"
      ]
    },
    {
      "cell_type": "code",
      "execution_count": null,
      "metadata": {
        "collapsed": false
      },
      "outputs": [],
      "source": [
        "print(phantom2D.properties)"
      ]
    },
    {
      "cell_type": "markdown",
      "metadata": {},
      "source": [
        "e.g., to be passed as ``**kwargs`` to a simulator routine.\n\nNotice that segmentation can be accessed directly (in read-only mode)\nvia square bracked indexing, similarly to numpy arrays.\n\nA basic summary of the properties can be accessed\nvia the ``__repr__`` attribute (i.e., enabling pretty printing):\n\n"
      ]
    },
    {
      "cell_type": "code",
      "execution_count": null,
      "metadata": {
        "collapsed": false
      },
      "outputs": [],
      "source": [
        "print(phantom2D)\nprint(phantom3D)\n\n# We also provide a crisp segmentation, which has a lower memory footprint\n# at cost of a coarser approximation (i.e., a piecewise-constant tissue model)-\n#\n# This can be obtained starting from the `\"fuzzy\"` phantom as:\n\nphantom2D = phantom2D.as_crisp()\nphantom3D = phantom3D.as_crisp()\n\n# Print summary\n\nprint(phantom2D)\nprint(phantom3D)\n\n# Display spatial segmentations\n\nexample2D = phantom2D\n\nexample3Dax = np.concatenate((phantom3D[100], phantom3D[100], phantom3D[100]), axis=0)\nexample3Dcor = np.concatenate(\n    (phantom3D[::-1, 100], phantom3D[::-1, 100], phantom3D[::-1, 100]), axis=0\n)\nexample3Dsag = np.concatenate(\n    (phantom3D[::-1, :, 100], phantom3D[::-1, :, 100], phantom3D[::-1, :, 100]), axis=0\n)\nexample3D = np.concatenate((example3Dax, example3Dcor, example3Dsag), axis=1)\n\nfig2, ax2 = plt.subplots(1, 2)\nax2[0].imshow(example2D, cmap=\"turbo\"), ax2[0].axis(\"off\"), ax2[0].set_title(\n    \"2D phantom\"\n)\nax2[1].imshow(example3D, cmap=\"turbo\"), ax2[1].axis(\"off\"), ax2[1].set_title(\n    \"3D phantom\"\n)\nplt.show()"
      ]
    },
    {
      "cell_type": "markdown",
      "metadata": {},
      "source": [
        "Crisp phantom can be also directly generated as:\n\n"
      ]
    },
    {
      "cell_type": "code",
      "execution_count": null,
      "metadata": {
        "collapsed": false
      },
      "outputs": [],
      "source": [
        "phantom2D = brainweb_phantom(ndim=2, subject=4, segtype=\"crisp\")  # 2D phantom\nphantom3D = brainweb_phantom(ndim=3, subject=4, segtype=\"crisp\")  # 3D phantom\n\n# N.B. ``segtype`` can be omitted as the default is ``\"crisp\"``.\n\nphantom2D = brainweb_phantom(ndim=2, subject=4)  # single-slice 2D phantom\nphantom3D = brainweb_phantom(ndim=3, subject=4)  # 3D phantom"
      ]
    },
    {
      "cell_type": "markdown",
      "metadata": {},
      "source": [
        "Finally, we can obtain a \"dense\" phantom,\ni.e., an object without segmentation whose\n``(M0, T1, T2, T2*, Chi)`` properties are stored\nas parametric maps rather than the individual values\nof each tissue class.\n\nThis can be obtain (both from ``\"fuzzy\"`` and ``\"crisp\"`` models) as:\n\n"
      ]
    },
    {
      "cell_type": "code",
      "execution_count": null,
      "metadata": {
        "collapsed": false
      },
      "outputs": [],
      "source": [
        "phantom2D = phantom2D.as_numeric()\n\n# Print summary\n\nprint(phantom2D)\n\n# Display parameter maps\n\nfig3, ax3 = plt.subplots(1, 5)\n\nim0 = ax3[0].imshow(phantom2D.M0, cmap=\"gray\")\nax3[0].axis(\"off\"), ax3[0].set_title(\"M0 [a.u.]\")\nfig3.colorbar(im0, ax=ax3[0], fraction=0.046, pad=0.04)\n\nim1 = ax3[1].imshow(phantom2D.T1, cmap=\"magma\")\nax3[1].axis(\"off\"), ax3[1].set_title(\"T1 [ms]\")\nfig3.colorbar(im1, ax=ax3[1], fraction=0.046, pad=0.04)\n\nim2 = ax3[2].imshow(phantom2D.T2, cmap=\"viridis\", vmax=150)\nax3[2].axis(\"off\"), ax3[2].set_title(\"T2 [ms]\")\nfig3.colorbar(im2, ax=ax3[2], fraction=0.046, pad=0.04)\n\nim3 = ax3[3].imshow(phantom2D.T2s, cmap=\"viridis\", vmax=150)\nax3[3].axis(\"off\"), ax3[3].set_title(\"T2* [ms]\")\nfig3.colorbar(im3, ax=ax3[3], fraction=0.046, pad=0.04)\n\nim4 = ax3[4].imshow(phantom2D.Chi, cmap=\"gray\")\nax3[4].axis(\"off\"), ax3[4].set_title(\"Chi\")\nfig3.colorbar(im4, ax=ax3[4], fraction=0.046, pad=0.04)\n\nplt.tight_layout()\nplt.show()"
      ]
    },
    {
      "cell_type": "markdown",
      "metadata": {},
      "source": [
        "Dense phantom can be also directly generated as:\n\n"
      ]
    },
    {
      "cell_type": "code",
      "execution_count": null,
      "metadata": {
        "collapsed": false
      },
      "outputs": [],
      "source": [
        "phantom2D = brainweb_phantom(ndim=2, subject=4, segtype=False)  # 2D phantom\n\n# Print summary\n\nprint(phantom2D)"
      ]
    },
    {
      "cell_type": "markdown",
      "metadata": {},
      "source": [
        "Hereafter, without loss of generality, we will use 2D phantoms.\n\n"
      ]
    },
    {
      "cell_type": "markdown",
      "metadata": {},
      "source": [
        "By default, Brainweb phantoms are interpolated\nto 1.085 mm isotropic resolution with a 200 isotropic matrix (217 mm iso FOV).\n\nThese can be adjusted using ``shape`` and ``output_res`` model:\n\n1. ``shape`` will control the matrix size without affecting the resolution.\n2. ``output_res`` will adjust the spatial resolution keeping the same (i.e., 200 iso) matrix\n\n\n"
      ]
    },
    {
      "cell_type": "code",
      "execution_count": null,
      "metadata": {
        "collapsed": false
      },
      "outputs": [],
      "source": [
        "phantom2D = brainweb_phantom(ndim=2, subject=4)\nphantom2D_mtx = brainweb_phantom(\n    ndim=2, subject=4, shape=256\n)  # can also be shape=(ny, nx)\nphantom2D_res = brainweb_phantom(\n    ndim=2, subject=4, output_res=2.0\n)  # can also be output_res=(dy, dx)\nphantom2D_mtx_res = brainweb_phantom(ndim=2, subject=4, shape=256, output_res=2.0)\n\nprint(phantom2D)\nprint(phantom2D_mtx)\nprint(phantom2D_res)\nprint(phantom2D_mtx_res)\n\nfig4, ax4 = plt.subplots(2, 2)\nax4[0, 0].imshow(phantom2D, cmap=\"turbo\"), ax4[0, 0].axis(\"off\"), ax4[0, 0].set_title(\n    \"shape 200, res=1.085mm, fov=217mm\"\n)\nax4[0, 1].imshow(phantom2D_mtx, cmap=\"turbo\"), ax4[0, 1].axis(\"off\"), ax4[\n    0, 1\n].set_title(\"shape 256, res=1.085mm, fov=277mm\")\nax4[1, 0].imshow(phantom2D_res, cmap=\"turbo\"), ax4[1, 0].axis(\"off\"), ax4[\n    1, 0\n].set_title(\"shape 200, res=2.0mm, fov=400mm\")\nax4[1, 1].imshow(phantom2D_mtx_res, cmap=\"turbo\"), ax4[1, 1].axis(\"off\"), ax4[\n    1, 1\n].set_title(\"shape 256, res=2.0mm, fov=512mm\")\nplt.show()"
      ]
    },
    {
      "cell_type": "markdown",
      "metadata": {},
      "source": [
        "The physical parameter of each tissue class are calculated by\ndefault for a field strength of 1.5 T.\n\nThis can be changed via the ``B0`` argument:\n\n"
      ]
    },
    {
      "cell_type": "code",
      "execution_count": null,
      "metadata": {
        "collapsed": false
      },
      "outputs": [],
      "source": [
        "# B0 strengths\nB0 = [0.55, 1.5, 3.0, 7.0, 11.7, 13.3]  # field strengths in [T]\n\n# Generate phantoms with different field strengths\nphantomB0 = [\n    brainweb_phantom(ndim=2, subject=4, B0=strength, segtype=False) for strength in B0\n]\n\n# Display\nT1 = np.concatenate([phantom.T1 for phantom in phantomB0], axis=1)\nT2 = np.concatenate([phantom.T2 for phantom in phantomB0], axis=1)\nT2s = np.concatenate([phantom.T2s for phantom in phantomB0], axis=1)\n\nfig5, ax5 = plt.subplots(3, 1)\n\nim1 = ax5[0].imshow(T1, cmap=\"magma\", vmax=5000)\nax5[0].axis(\"off\"), ax5[0].set_title(\"T1 [ms]\")\nfig5.colorbar(im1, ax=ax5[0], fraction=0.046, pad=0.04)\n\nim2 = ax5[1].imshow(T2, cmap=\"viridis\", vmax=150)\nax5[1].axis(\"off\"), ax5[1].set_title(\"T2 [ms]\")\nfig5.colorbar(im2, ax=ax5[1], fraction=0.046, pad=0.04)\n\nim3 = ax5[2].imshow(T2s, cmap=\"viridis\", vmax=100)\nax5[2].axis(\"off\"), ax5[2].set_title(\"T2* [ms]\")\nfig5.colorbar(im3, ax=ax5[2], fraction=0.046, pad=0.04)\n\nplt.tight_layout()\nplt.show()"
      ]
    },
    {
      "cell_type": "markdown",
      "metadata": {},
      "source": [
        "In addition to single pool model, we provide 3 multi-pool models:\n\n1. ``\"mw-model\"``: a two-pool model where free water is divided in two compartments,\n   i.e., `intra-/extra-cellular water` (long T1 / T2) and `myelin water` (short T1 / T2).\n   The model include chemical exchange between the two pools.\n   Parameters are ``(MWF, T1, T2, k, chemshift)``.\n2. ``\"mt-model\"``: a two-pool model consisting in `free water` and `bound water`.\n   Free water includes both intra-/extra-cellular and myelin water (as in the single-pool model),\n   while bound water corresponds to a macromolecular pool with the same T1 as the free water\n   and no T2 (i.e., no transverse magnetiztion).\n   The model include magnetization transfer between the two pools.\n   Parameters are ``(MVF, T1, T2, k)``.\n3. ``\"mwmt-model\"``: a three-pool model consisting in `intra-/extra-cellular water`, `myelin water` and `bound water`.\n   The model include chemical exchange between the two free water pools and magnetizion transfer between\n   myelin water and bound water.\n   Parameters are ``(MWF, MVF, T1, T2, k)``.\n\nHere we will display the latter, as it represents the most general case.\n\n"
      ]
    },
    {
      "cell_type": "code",
      "execution_count": null,
      "metadata": {
        "collapsed": false
      },
      "outputs": [],
      "source": [
        "# model=\"single-pool\" is the default, while \"mw-model\" and \"mt-model\" corresponds to cases 1. and 2.\nphantom_multi = brainweb_phantom(ndim=2, subject=4, model=\"mwmt-model\", segtype=False)"
      ]
    },
    {
      "cell_type": "markdown",
      "metadata": {},
      "source": [
        "MWF corresponds to the myelin water fraction, while MVF to the bound water fraction.\nWe assume that intra-extracellular water fraction ``= 1 - (MWF + MVF)``:\n\n"
      ]
    },
    {
      "cell_type": "code",
      "execution_count": null,
      "metadata": {
        "collapsed": false
      },
      "outputs": [],
      "source": [
        "MWF = phantom_multi.MWF\nMVF = phantom_multi.MVF\nIEWF = (1 - (MWF + MVF)) * (MWF > 0)\nweight = np.concatenate((IEWF, MWF, MVF), axis=1)\n\nplt.figure()\nplt.imshow(weight, vmin=0, vmax=1, cmap=\"hot\"), plt.axis(\"off\"), plt.title(\n    \"pool fractions\"\n), plt.colorbar()\nplt.show()"
      ]
    },
    {
      "cell_type": "markdown",
      "metadata": {},
      "source": [
        "T1 and T2 for the two free water pools are stacked along the first axis,\nwith ``n=0`` being the intra-/extra-cellular water (long T1 / T2) and\n``n=1`` being the myelin water (short T1 / T2):\n\n"
      ]
    },
    {
      "cell_type": "code",
      "execution_count": null,
      "metadata": {
        "collapsed": false
      },
      "outputs": [],
      "source": [
        "T1 = np.concatenate((phantom_multi.T1[0], phantom_multi.T1[1]), axis=1)\nT2 = np.concatenate((phantom_multi.T2[0], phantom_multi.T2[1]), axis=1)\n\nfig6, ax6 = plt.subplots(2, 1)\n\nim1 = ax6[0].imshow(T1, cmap=\"magma\", vmax=1500)\nax6[0].axis(\"off\"), ax6[0].set_title(\"T1 [ms]\")\nfig6.colorbar(im1, ax=ax6[0], fraction=0.046, pad=0.04)\n\nim2 = ax6[1].imshow(T2, cmap=\"viridis\", vmax=150)\nax6[1].axis(\"off\"), ax6[1].set_title(\"T2 [ms]\")\nfig6.colorbar(im2, ax=ax6[1], fraction=0.046, pad=0.04)"
      ]
    },
    {
      "cell_type": "markdown",
      "metadata": {},
      "source": [
        "k represent the non-directional exchange rates in [Hz],\nwith ``n=0`` being the chemical exchange rate between the two free water pools\nand ``n=1`` being magnetization transfer rate between the myelin and bound water:\n\n"
      ]
    },
    {
      "cell_type": "code",
      "execution_count": null,
      "metadata": {
        "collapsed": false
      },
      "outputs": [],
      "source": [
        "k = np.concatenate((phantom_multi.k[0], phantom_multi.k[1]), axis=1)\n\nplt.figure()\nplt.imshow(k, cmap=\"hot\"), plt.axis(\"off\"), plt.title(\n    \"exchange rate [Hz]\"\n), plt.colorbar()\nplt.show()"
      ]
    },
    {
      "cell_type": "markdown",
      "metadata": {},
      "source": [
        "Similarly to the single pool model, ``mrtwin`` supports ``\"fuzzy\"`` and ``\"crisp\"``\nsegmentations.\n\n## Caching mechanism\n\nTo reduce loading times, `mrtwin` implements a caching mechanism.\n\nIf ``cache`` argument is set to ``True`` (default behaviour), each phantom\nsegmentation (identified by the number of spatial dimensions,\ntissue model, segmentation type, matrix shape and resolution)\nis saved on the disk in ``npy`` format.\n\nThe path is selected according to the following hierachy (inspired by ``brainweb-dl``):\n\n1. User-specific argument (``cache_dir``)\n2. ``MRTWIN_DIR`` environment variable\n3. ``~/.cache/mrtwin`` folder\n\nOn top of that, the underlying Brainweb fuzzy segmentations at the original\nresolution are stored (via ``brainweb-dl``) with the following hierachy:\n\n1. User-specific argument (``brainweb_dir``)\n2. ``BRAINWEB_DIR`` environment variable\n3. ``~/.cache/brainweb`` folder\n\nThe cached files can be forcibly overwritten by setting the ``force`` argument\nto ``True`` (default: ``False``).\n\nN.B.: currently, ``force=True`` will both force re-downloading brainweb segmentation\nand the subsequent interpolations and resizing required to obtain the\ndesired shape and resolution.\n\n## Disabling SSL verification (not recommended)\n\nIf you encounter some issue in downloading, SSL verification\ncan be disabled by setting ``verify`` to ``False`` (default: ``True``).\nIt is advised however to solve the problem on your machine side\n(updating the certificate).\n\n"
      ]
    }
  ],
  "metadata": {
    "kernelspec": {
      "display_name": "Python 3",
      "language": "python",
      "name": "python3"
    },
    "language_info": {
      "codemirror_mode": {
        "name": "ipython",
        "version": 3
      },
      "file_extension": ".py",
      "mimetype": "text/x-python",
      "name": "python",
      "nbconvert_exporter": "python",
      "pygments_lexer": "ipython3",
      "version": "3.10.14"
    }
  },
  "nbformat": 4,
  "nbformat_minor": 0
}